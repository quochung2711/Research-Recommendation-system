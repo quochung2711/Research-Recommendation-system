{
 "cells": [
  {
   "cell_type": "code",
   "execution_count": 1,
   "id": "632e6ee4",
   "metadata": {},
   "outputs": [],
   "source": [
    "from __future__ import division\n",
    "from pyspark import SparkConf, SparkContext\n",
    "from pyspark.mllib.recommendation import ALS, Rating\n",
    "import time\n",
    "import json\n",
    "import sys\n",
    "from math import sqrt"
   ]
  },
  {
   "cell_type": "code",
   "execution_count": 2,
   "id": "82df8840",
   "metadata": {},
   "outputs": [],
   "source": [
    "from pyspark.sql.types import *\n"
   ]
  },
  {
   "cell_type": "code",
   "execution_count": 3,
   "id": "d9b54707",
   "metadata": {},
   "outputs": [],
   "source": [
    "import findspark\n",
    "findspark.init()\n",
    "\n",
    "import pyspark\n",
    "findspark.find()\n",
    "\n",
    "from pyspark import SparkContext\n",
    "sc = SparkContext()\n"
   ]
  },
  {
   "cell_type": "code",
   "execution_count": 4,
   "id": "6b7b5647",
   "metadata": {},
   "outputs": [],
   "source": [
    "def mapDict(vals):\n",
    "        return_dict = {}\n",
    "        for val in vals:\n",
    "            return_dict[val[0]] = val[1]\n",
    "        return return_dict\n",
    "\n",
    "def findAvg(vals):\n",
    "        '''Find average value for each row'''\n",
    "        count = 0\n",
    "        tot = 0\n",
    "        for item, rating in vals.items():\n",
    "            tot += rating\n",
    "            count += 1\n",
    "        average = float(tot) / count\n",
    "        \n",
    "        for item, rating in vals.items():\n",
    "            vals[item] = rating - average\n",
    "        vals['row_avg'] = average\n",
    "        return vals"
   ]
  },
  {
   "cell_type": "code",
   "execution_count": 5,
   "id": "0aa30141",
   "metadata": {},
   "outputs": [],
   "source": [
    "train = sc.textFile('./Train.csv')\n",
    "test = sc.textFile('./Test.csv')"
   ]
  },
  {
   "cell_type": "code",
   "execution_count": 6,
   "id": "a961ed2a",
   "metadata": {},
   "outputs": [],
   "source": [
    "train_header = train.first()\n",
    "train_filtered = train.filter(lambda row: row != train_header)"
   ]
  },
  {
   "cell_type": "code",
   "execution_count": 7,
   "id": "80849625",
   "metadata": {},
   "outputs": [],
   "source": [
    "test_header = test.first()\n",
    "test_filtered = test.filter(lambda row: row != test_header)"
   ]
  },
  {
   "cell_type": "code",
   "execution_count": 8,
   "id": "656fc118",
   "metadata": {},
   "outputs": [],
   "source": [
    "train_rdd = train_filtered.map(lambda x: x.split(',')).map(lambda line_split: (line_split[1], (line_split[0], float(line_split[2]))))"
   ]
  },
  {
   "cell_type": "code",
   "execution_count": 16,
   "id": "9b2ccec3",
   "metadata": {},
   "outputs": [],
   "source": [
    "test_rdd = test_filtered.map(lambda x: x.split(',')).map(lambda line_split: (line_split[1], line_split[0], float(line_split[2])))"
   ]
  },
  {
   "cell_type": "code",
   "execution_count": 10,
   "id": "dd1540c9",
   "metadata": {},
   "outputs": [
    {
     "data": {
      "text/plain": [
       "[('034545104X', <pyspark.resultiterable.ResultIterable at 0x1b92df58d30>),\n",
       " ('052165615X', <pyspark.resultiterable.ResultIterable at 0x1b92df58dc0>),\n",
       " ('0521795028', <pyspark.resultiterable.ResultIterable at 0x1b92df58e20>),\n",
       " ('2080674722', <pyspark.resultiterable.ResultIterable at 0x1b92df58e80>),\n",
       " ('342310538', <pyspark.resultiterable.ResultIterable at 0x1b92df58ee0>)]"
      ]
     },
     "execution_count": 10,
     "metadata": {},
     "output_type": "execute_result"
    }
   ],
   "source": [
    "training_group = train_rdd.groupByKey()\n",
    "training_group.take(5)"
   ]
  },
  {
   "cell_type": "code",
   "execution_count": 11,
   "id": "0536a597",
   "metadata": {},
   "outputs": [],
   "source": [
    "training_group = train_rdd.groupByKey().mapValues(list)\n",
    "training_group_dict = training_group.mapValues(mapDict)\n",
    "training_group_dict_avg = training_group_dict.mapValues(findAvg)"
   ]
  },
  {
   "cell_type": "code",
   "execution_count": 12,
   "id": "c4904c57",
   "metadata": {},
   "outputs": [
    {
     "data": {
      "text/plain": [
       "PythonRDD[15] at RDD at PythonRDD.scala:53"
      ]
     },
     "execution_count": 12,
     "metadata": {},
     "output_type": "execute_result"
    }
   ],
   "source": [
    "training_group_dict_avg"
   ]
  },
  {
   "cell_type": "code",
   "execution_count": 13,
   "id": "f4e5a575",
   "metadata": {},
   "outputs": [],
   "source": [
    "training_group_dict_one = training_group_dict_avg.map(lambda x: (1, x))\n",
    "training_one_reduce = training_group_dict_one.groupByKey().mapValues(list).map(lambda x: x[1])"
   ]
  },
  {
   "cell_type": "code",
   "execution_count": 15,
   "id": "40a1e3b7",
   "metadata": {},
   "outputs": [],
   "source": [
    "training_data_compile = training_one_reduce.collect()\n",
    "training_data_compile = training_data_compile[0]\n",
    "training_compile_dict = {}"
   ]
  },
  {
   "cell_type": "code",
   "execution_count": 17,
   "id": "a46ba40e",
   "metadata": {},
   "outputs": [],
   "source": [
    "for i in range(len(training_data_compile)):\n",
    "        training_compile_dict[training_data_compile[i][0]] = training_data_compile[i][1]"
   ]
  },
  {
   "cell_type": "code",
   "execution_count": 18,
   "id": "607240d6",
   "metadata": {},
   "outputs": [],
   "source": [
    "item_to_user_pre = train_rdd.map(lambda x: (x[1][0], x[0])).groupByKey().mapValues(list)\n",
    "item_to_user_compile = item_to_user_pre.collect()\n",
    "item_to_user_dict = {}"
   ]
  },
  {
   "cell_type": "code",
   "execution_count": 19,
   "id": "72ed2385",
   "metadata": {},
   "outputs": [],
   "source": [
    "for i in range(len(item_to_user_compile)):\n",
    "        item_to_user_dict[item_to_user_compile[i][0]] = set(item_to_user_compile[i][1])"
   ]
  },
  {
   "cell_type": "code",
   "execution_count": 20,
   "id": "3a30eced",
   "metadata": {},
   "outputs": [],
   "source": [
    "test_data = test_rdd.collect()\n",
    "RMSE_tmp = 0\n",
    "tmp_result = []\n",
    "pearson_threshold = 0.3\n",
    "random_pred = 0\n",
    "upper_limit = 150\n",
    "lower_limit = 15"
   ]
  },
  {
   "cell_type": "code",
   "execution_count": 21,
   "id": "58cd15b7",
   "metadata": {},
   "outputs": [],
   "source": [
    "for test in test_data:\n",
    "        '''Get all the rows corresponding to cur user and item of test dataset'''\n",
    "        cur_item, cur_user = test[0], test[1]\n",
    "        filtered_train = {}\n",
    "        if cur_item not in training_compile_dict or cur_user not in item_to_user_dict:\n",
    "            '''If it's an unseen business id, assign some random prediction'''\n",
    "            prediction = 5\n",
    "            random_pred += 1\n",
    "        else:\n",
    "            '''We want to attach row corresponding to current item'''\n",
    "            filtered_train[cur_item] = training_compile_dict[cur_item]\n",
    "            cur_item_info = filtered_train[cur_item]\n",
    "            '''Get a list of user_id who contains the current item'''\n",
    "            row_set = item_to_user_dict[cur_user]\n",
    "            for row in row_set:\n",
    "                if len(training_compile_dict[row]) > lower_limit and len(training_compile_dict[row]) < upper_limit:\n",
    "                    filtered_train[row] = training_compile_dict[row]\n",
    "                \n",
    "            '''Compute Pearson for each row and add to the final result if Pearson\n",
    "            passes the threshold value'''\n",
    "            predict_num = 0\n",
    "            predict_den = 0\n",
    "            for item, user_list in filtered_train.items():\n",
    "                if item != cur_item:\n",
    "                    num = 0\n",
    "                    den1 = 0\n",
    "                    den2 = 0\n",
    "                    for user, rating in user_list.items():\n",
    "                        if user in cur_item_info and user != cur_user and user != 'row_avg':\n",
    "                            num += rating * cur_item_info[user]\n",
    "                            den1 += rating**2\n",
    "                            den2 += (cur_item_info[user])**2\n",
    "                    denom = sqrt(den1) * sqrt(den2)\n",
    "                    if num == 0 or denom == 0:\n",
    "                        pearson = 0\n",
    "                    else:\n",
    "                        pearson = float(num) / denom\n",
    "                    if pearson > pearson_threshold:\n",
    "                        predict_num += (filtered_train[item][cur_user] + filtered_train[item]['row_avg']) * pearson\n",
    "                        predict_den += abs(pearson)\n",
    "            if predict_num == 0 or predict_den == 0:\n",
    "                prediction = cur_item_info['row_avg']\n",
    "            else:\n",
    "                prediction = float(predict_num) / predict_den\n",
    "                prediction = (prediction + cur_item_info['row_avg']) / 2.0 \n",
    "        '''Save the results which consists of user_id, business_id, ground truth and predicted'''\n",
    "        tmp_result.append(((test[1], test[0], test[2]), prediction))\n",
    "        '''Compile results for final MSE computation'''\n",
    "        RMSE_tmp += (test[2] - prediction)**2"
   ]
  },
  {
   "cell_type": "code",
   "execution_count": 22,
   "id": "430be930",
   "metadata": {},
   "outputs": [],
   "source": [
    "RMSE = sqrt(RMSE_tmp / len(test_data))"
   ]
  },
  {
   "cell_type": "code",
   "execution_count": 23,
   "id": "83263b97",
   "metadata": {},
   "outputs": [
    {
     "name": "stdout",
     "output_type": "stream",
     "text": [
      "RMSE:  4.343586709089516\n"
     ]
    }
   ],
   "source": [
    "print(\"RMSE: \", RMSE)"
   ]
  },
  {
   "cell_type": "code",
   "execution_count": null,
   "id": "b7c36e14",
   "metadata": {},
   "outputs": [],
   "source": []
  }
 ],
 "metadata": {
  "kernelspec": {
   "display_name": "base",
   "language": "python",
   "name": "python3"
  },
  "language_info": {
   "codemirror_mode": {
    "name": "ipython",
    "version": 3
   },
   "file_extension": ".py",
   "mimetype": "text/x-python",
   "name": "python",
   "nbconvert_exporter": "python",
   "pygments_lexer": "ipython3",
   "version": "3.9.12"
  },
  "vscode": {
   "interpreter": {
    "hash": "5179d32cf6ec497baf3f8a3ef987cc77c5d2dc691fdde20a56316522f61a7323"
   }
  }
 },
 "nbformat": 4,
 "nbformat_minor": 5
}
