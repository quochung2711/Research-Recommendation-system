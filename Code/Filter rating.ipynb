{
 "cells": [
  {
   "cell_type": "code",
   "execution_count": 75,
   "id": "5a3cfc99",
   "metadata": {},
   "outputs": [],
   "source": [
    "import pandas as pd\n",
    "import numpy as np\n",
    "import matplotlib.pyplot as plt\n",
    "import pickle\n",
    "\n",
    "from surprise import Reader, Dataset, SVD\n",
    "import time\n",
    "from surprise.accuracy import rmse, mae\n",
    "from surprise.model_selection import cross_validate\n",
    "from surprise.model_selection import train_test_split"
   ]
  },
  {
   "cell_type": "code",
   "execution_count": 22,
   "id": "1f79f390",
   "metadata": {},
   "outputs": [
    {
     "name": "stderr",
     "output_type": "stream",
     "text": [
      "C:\\Users\\nguoi\\AppData\\Local\\Temp\\ipykernel_13332\\2448960088.py:2: FutureWarning: The error_bad_lines argument has been deprecated and will be removed in a future version. Use on_bad_lines in the future.\n",
      "\n",
      "\n",
      "  ratings = pd.read_csv(\"./BX-Book-Ratings.csv\",sep=';', encoding='latin-1',error_bad_lines=False)\n"
     ]
    },
    {
     "data": {
      "text/html": [
       "<div>\n",
       "<style scoped>\n",
       "    .dataframe tbody tr th:only-of-type {\n",
       "        vertical-align: middle;\n",
       "    }\n",
       "\n",
       "    .dataframe tbody tr th {\n",
       "        vertical-align: top;\n",
       "    }\n",
       "\n",
       "    .dataframe thead th {\n",
       "        text-align: right;\n",
       "    }\n",
       "</style>\n",
       "<table border=\"1\" class=\"dataframe\">\n",
       "  <thead>\n",
       "    <tr style=\"text-align: right;\">\n",
       "      <th></th>\n",
       "      <th>User-ID</th>\n",
       "      <th>ISBN</th>\n",
       "      <th>Book-Rating</th>\n",
       "    </tr>\n",
       "  </thead>\n",
       "  <tbody>\n",
       "    <tr>\n",
       "      <th>0</th>\n",
       "      <td>276725</td>\n",
       "      <td>034545104X</td>\n",
       "      <td>0</td>\n",
       "    </tr>\n",
       "    <tr>\n",
       "      <th>1</th>\n",
       "      <td>276726</td>\n",
       "      <td>0155061224</td>\n",
       "      <td>5</td>\n",
       "    </tr>\n",
       "    <tr>\n",
       "      <th>2</th>\n",
       "      <td>276727</td>\n",
       "      <td>0446520802</td>\n",
       "      <td>0</td>\n",
       "    </tr>\n",
       "    <tr>\n",
       "      <th>3</th>\n",
       "      <td>276729</td>\n",
       "      <td>052165615X</td>\n",
       "      <td>3</td>\n",
       "    </tr>\n",
       "    <tr>\n",
       "      <th>4</th>\n",
       "      <td>276729</td>\n",
       "      <td>0521795028</td>\n",
       "      <td>6</td>\n",
       "    </tr>\n",
       "  </tbody>\n",
       "</table>\n",
       "</div>"
      ],
      "text/plain": [
       "   User-ID        ISBN  Book-Rating\n",
       "0   276725  034545104X            0\n",
       "1   276726  0155061224            5\n",
       "2   276727  0446520802            0\n",
       "3   276729  052165615X            3\n",
       "4   276729  0521795028            6"
      ]
     },
     "execution_count": 22,
     "metadata": {},
     "output_type": "execute_result"
    }
   ],
   "source": [
    "### read ratings.csv file\n",
    "ratings = pd.read_csv(\"./BX-Book-Ratings.csv\",sep=';', encoding='latin-1',error_bad_lines=False)\n",
    "ratings.head()"
   ]
  },
  {
   "cell_type": "code",
   "execution_count": 42,
   "id": "34956f97",
   "metadata": {},
   "outputs": [
    {
     "name": "stderr",
     "output_type": "stream",
     "text": [
      "C:\\Users\\nguoi\\AppData\\Local\\Temp\\ipykernel_13332\\2826857486.py:1: FutureWarning: The error_bad_lines argument has been deprecated and will be removed in a future version. Use on_bad_lines in the future.\n",
      "\n",
      "\n",
      "  books = pd.read_csv(\"./BX-Books.csv\",sep=';', encoding='latin-1',error_bad_lines=False)\n",
      "b'Skipping line 6452: expected 8 fields, saw 9\\nSkipping line 43667: expected 8 fields, saw 10\\nSkipping line 51751: expected 8 fields, saw 9\\n'\n",
      "b'Skipping line 92038: expected 8 fields, saw 9\\nSkipping line 104319: expected 8 fields, saw 9\\nSkipping line 121768: expected 8 fields, saw 9\\n'\n",
      "b'Skipping line 144058: expected 8 fields, saw 9\\nSkipping line 150789: expected 8 fields, saw 9\\nSkipping line 157128: expected 8 fields, saw 9\\nSkipping line 180189: expected 8 fields, saw 9\\nSkipping line 185738: expected 8 fields, saw 9\\n'\n",
      "b'Skipping line 209388: expected 8 fields, saw 9\\nSkipping line 220626: expected 8 fields, saw 9\\nSkipping line 227933: expected 8 fields, saw 11\\nSkipping line 228957: expected 8 fields, saw 10\\nSkipping line 245933: expected 8 fields, saw 9\\nSkipping line 251296: expected 8 fields, saw 9\\nSkipping line 259941: expected 8 fields, saw 9\\nSkipping line 261529: expected 8 fields, saw 9\\n'\n",
      "C:\\Users\\nguoi\\AppData\\Local\\Temp\\ipykernel_13332\\2826857486.py:1: DtypeWarning: Columns (3) have mixed types. Specify dtype option on import or set low_memory=False.\n",
      "  books = pd.read_csv(\"./BX-Books.csv\",sep=';', encoding='latin-1',error_bad_lines=False)\n"
     ]
    },
    {
     "data": {
      "text/html": [
       "<div>\n",
       "<style scoped>\n",
       "    .dataframe tbody tr th:only-of-type {\n",
       "        vertical-align: middle;\n",
       "    }\n",
       "\n",
       "    .dataframe tbody tr th {\n",
       "        vertical-align: top;\n",
       "    }\n",
       "\n",
       "    .dataframe thead th {\n",
       "        text-align: right;\n",
       "    }\n",
       "</style>\n",
       "<table border=\"1\" class=\"dataframe\">\n",
       "  <thead>\n",
       "    <tr style=\"text-align: right;\">\n",
       "      <th></th>\n",
       "      <th>ISBN</th>\n",
       "      <th>Book-Title</th>\n",
       "      <th>Book-Author</th>\n",
       "      <th>Year-Of-Publication</th>\n",
       "      <th>Publisher</th>\n",
       "      <th>Image-URL-S</th>\n",
       "      <th>Image-URL-M</th>\n",
       "      <th>Image-URL-L</th>\n",
       "    </tr>\n",
       "  </thead>\n",
       "  <tbody>\n",
       "    <tr>\n",
       "      <th>0</th>\n",
       "      <td>0195153448</td>\n",
       "      <td>Classical Mythology</td>\n",
       "      <td>Mark P. O. Morford</td>\n",
       "      <td>2002</td>\n",
       "      <td>Oxford University Press</td>\n",
       "      <td>http://images.amazon.com/images/P/0195153448.0...</td>\n",
       "      <td>http://images.amazon.com/images/P/0195153448.0...</td>\n",
       "      <td>http://images.amazon.com/images/P/0195153448.0...</td>\n",
       "    </tr>\n",
       "    <tr>\n",
       "      <th>1</th>\n",
       "      <td>0002005018</td>\n",
       "      <td>Clara Callan</td>\n",
       "      <td>Richard Bruce Wright</td>\n",
       "      <td>2001</td>\n",
       "      <td>HarperFlamingo Canada</td>\n",
       "      <td>http://images.amazon.com/images/P/0002005018.0...</td>\n",
       "      <td>http://images.amazon.com/images/P/0002005018.0...</td>\n",
       "      <td>http://images.amazon.com/images/P/0002005018.0...</td>\n",
       "    </tr>\n",
       "    <tr>\n",
       "      <th>2</th>\n",
       "      <td>0060973129</td>\n",
       "      <td>Decision in Normandy</td>\n",
       "      <td>Carlo D'Este</td>\n",
       "      <td>1991</td>\n",
       "      <td>HarperPerennial</td>\n",
       "      <td>http://images.amazon.com/images/P/0060973129.0...</td>\n",
       "      <td>http://images.amazon.com/images/P/0060973129.0...</td>\n",
       "      <td>http://images.amazon.com/images/P/0060973129.0...</td>\n",
       "    </tr>\n",
       "    <tr>\n",
       "      <th>3</th>\n",
       "      <td>0374157065</td>\n",
       "      <td>Flu: The Story of the Great Influenza Pandemic...</td>\n",
       "      <td>Gina Bari Kolata</td>\n",
       "      <td>1999</td>\n",
       "      <td>Farrar Straus Giroux</td>\n",
       "      <td>http://images.amazon.com/images/P/0374157065.0...</td>\n",
       "      <td>http://images.amazon.com/images/P/0374157065.0...</td>\n",
       "      <td>http://images.amazon.com/images/P/0374157065.0...</td>\n",
       "    </tr>\n",
       "    <tr>\n",
       "      <th>4</th>\n",
       "      <td>0393045218</td>\n",
       "      <td>The Mummies of Urumchi</td>\n",
       "      <td>E. J. W. Barber</td>\n",
       "      <td>1999</td>\n",
       "      <td>W. W. Norton &amp;amp; Company</td>\n",
       "      <td>http://images.amazon.com/images/P/0393045218.0...</td>\n",
       "      <td>http://images.amazon.com/images/P/0393045218.0...</td>\n",
       "      <td>http://images.amazon.com/images/P/0393045218.0...</td>\n",
       "    </tr>\n",
       "  </tbody>\n",
       "</table>\n",
       "</div>"
      ],
      "text/plain": [
       "         ISBN                                         Book-Title  \\\n",
       "0  0195153448                                Classical Mythology   \n",
       "1  0002005018                                       Clara Callan   \n",
       "2  0060973129                               Decision in Normandy   \n",
       "3  0374157065  Flu: The Story of the Great Influenza Pandemic...   \n",
       "4  0393045218                             The Mummies of Urumchi   \n",
       "\n",
       "            Book-Author Year-Of-Publication                   Publisher  \\\n",
       "0    Mark P. O. Morford                2002     Oxford University Press   \n",
       "1  Richard Bruce Wright                2001       HarperFlamingo Canada   \n",
       "2          Carlo D'Este                1991             HarperPerennial   \n",
       "3      Gina Bari Kolata                1999        Farrar Straus Giroux   \n",
       "4       E. J. W. Barber                1999  W. W. Norton &amp; Company   \n",
       "\n",
       "                                         Image-URL-S  \\\n",
       "0  http://images.amazon.com/images/P/0195153448.0...   \n",
       "1  http://images.amazon.com/images/P/0002005018.0...   \n",
       "2  http://images.amazon.com/images/P/0060973129.0...   \n",
       "3  http://images.amazon.com/images/P/0374157065.0...   \n",
       "4  http://images.amazon.com/images/P/0393045218.0...   \n",
       "\n",
       "                                         Image-URL-M  \\\n",
       "0  http://images.amazon.com/images/P/0195153448.0...   \n",
       "1  http://images.amazon.com/images/P/0002005018.0...   \n",
       "2  http://images.amazon.com/images/P/0060973129.0...   \n",
       "3  http://images.amazon.com/images/P/0374157065.0...   \n",
       "4  http://images.amazon.com/images/P/0393045218.0...   \n",
       "\n",
       "                                         Image-URL-L  \n",
       "0  http://images.amazon.com/images/P/0195153448.0...  \n",
       "1  http://images.amazon.com/images/P/0002005018.0...  \n",
       "2  http://images.amazon.com/images/P/0060973129.0...  \n",
       "3  http://images.amazon.com/images/P/0374157065.0...  \n",
       "4  http://images.amazon.com/images/P/0393045218.0...  "
      ]
     },
     "execution_count": 42,
     "metadata": {},
     "output_type": "execute_result"
    }
   ],
   "source": [
    "books = pd.read_csv(\"./BX-Books.csv\",sep=';', encoding='latin-1',error_bad_lines=False)\n",
    "books.head()"
   ]
  },
  {
   "cell_type": "code",
   "execution_count": 84,
   "id": "a68262c0",
   "metadata": {},
   "outputs": [
    {
     "name": "stderr",
     "output_type": "stream",
     "text": [
      "C:\\Users\\nguoi\\AppData\\Local\\Temp\\ipykernel_13332\\357173605.py:1: FutureWarning: The error_bad_lines argument has been deprecated and will be removed in a future version. Use on_bad_lines in the future.\n",
      "\n",
      "\n",
      "  users = pd.read_csv(\"./BX-Users.csv\",sep=';', encoding='latin-1',error_bad_lines=False)\n"
     ]
    },
    {
     "data": {
      "text/html": [
       "<div>\n",
       "<style scoped>\n",
       "    .dataframe tbody tr th:only-of-type {\n",
       "        vertical-align: middle;\n",
       "    }\n",
       "\n",
       "    .dataframe tbody tr th {\n",
       "        vertical-align: top;\n",
       "    }\n",
       "\n",
       "    .dataframe thead th {\n",
       "        text-align: right;\n",
       "    }\n",
       "</style>\n",
       "<table border=\"1\" class=\"dataframe\">\n",
       "  <thead>\n",
       "    <tr style=\"text-align: right;\">\n",
       "      <th></th>\n",
       "      <th>User-ID</th>\n",
       "      <th>Location</th>\n",
       "      <th>Age</th>\n",
       "    </tr>\n",
       "  </thead>\n",
       "  <tbody>\n",
       "    <tr>\n",
       "      <th>0</th>\n",
       "      <td>1</td>\n",
       "      <td>nyc, new york, usa</td>\n",
       "      <td>NaN</td>\n",
       "    </tr>\n",
       "    <tr>\n",
       "      <th>1</th>\n",
       "      <td>2</td>\n",
       "      <td>stockton, california, usa</td>\n",
       "      <td>18.0</td>\n",
       "    </tr>\n",
       "    <tr>\n",
       "      <th>2</th>\n",
       "      <td>3</td>\n",
       "      <td>moscow, yukon territory, russia</td>\n",
       "      <td>NaN</td>\n",
       "    </tr>\n",
       "    <tr>\n",
       "      <th>3</th>\n",
       "      <td>4</td>\n",
       "      <td>porto, v.n.gaia, portugal</td>\n",
       "      <td>17.0</td>\n",
       "    </tr>\n",
       "    <tr>\n",
       "      <th>4</th>\n",
       "      <td>5</td>\n",
       "      <td>farnborough, hants, united kingdom</td>\n",
       "      <td>NaN</td>\n",
       "    </tr>\n",
       "  </tbody>\n",
       "</table>\n",
       "</div>"
      ],
      "text/plain": [
       "   User-ID                            Location   Age\n",
       "0        1                  nyc, new york, usa   NaN\n",
       "1        2           stockton, california, usa  18.0\n",
       "2        3     moscow, yukon territory, russia   NaN\n",
       "3        4           porto, v.n.gaia, portugal  17.0\n",
       "4        5  farnborough, hants, united kingdom   NaN"
      ]
     },
     "execution_count": 84,
     "metadata": {},
     "output_type": "execute_result"
    }
   ],
   "source": [
    "users = pd.read_csv(\"./BX-Users.csv\",sep=';', encoding='latin-1',error_bad_lines=False)\n",
    "users.head()"
   ]
  },
  {
   "cell_type": "markdown",
   "id": "915932c1",
   "metadata": {},
   "source": [
    "Kích thước của tập dữ liệu ratings ban đầu"
   ]
  },
  {
   "cell_type": "code",
   "execution_count": 23,
   "id": "60a3faf5",
   "metadata": {},
   "outputs": [
    {
     "data": {
      "text/plain": [
       "(1149780, 3)"
      ]
     },
     "execution_count": 23,
     "metadata": {},
     "output_type": "execute_result"
    }
   ],
   "source": [
    "ratings.shape"
   ]
  },
  {
   "cell_type": "code",
   "execution_count": 24,
   "id": "8d3fe996",
   "metadata": {},
   "outputs": [],
   "source": [
    "filter_non_ratings = ratings[ratings['Book-Rating'] != 0 ]"
   ]
  },
  {
   "cell_type": "markdown",
   "id": "9406e47c",
   "metadata": {},
   "source": [
    "Kích thước của tập dữ liệu sau khi loại bỏ các ratings không có"
   ]
  },
  {
   "cell_type": "code",
   "execution_count": 25,
   "id": "324b5114",
   "metadata": {},
   "outputs": [
    {
     "data": {
      "text/plain": [
       "(433671, 3)"
      ]
     },
     "execution_count": 25,
     "metadata": {},
     "output_type": "execute_result"
    }
   ],
   "source": [
    "filter_non_ratings.shape"
   ]
  },
  {
   "cell_type": "code",
   "execution_count": 52,
   "id": "4f777e15",
   "metadata": {},
   "outputs": [
    {
     "name": "stdout",
     "output_type": "stream",
     "text": [
      "New table size: 433671\n"
     ]
    }
   ],
   "source": [
    "books_with_ratings = filter_non_ratings.join(books.set_index('ISBN'), on='ISBN')\n",
    "print(f'New table size: {len(books_with_ratings)}')"
   ]
  },
  {
   "cell_type": "code",
   "execution_count": 54,
   "id": "a980b96c",
   "metadata": {},
   "outputs": [
    {
     "name": "stdout",
     "output_type": "stream",
     "text": [
      "Co 49829 sach khong co tac gia tieu de.\n",
      "co 8.70% cua tap du lieu.\n"
     ]
    }
   ],
   "source": [
    "### kiểm tra số sánh không có tác giả tiêu đề\n",
    "print(f'Co {books_with_ratings[\"Book-Title\"].isnull().sum()} sach khong co tac gia tieu de.')\n",
    "print(f'co {len(books_with_ratings)/books_with_ratings[\"Book-Title\"].isnull().sum():.2f}% cua tap du lieu.')"
   ]
  },
  {
   "cell_type": "code",
   "execution_count": 55,
   "id": "39ed23c8",
   "metadata": {},
   "outputs": [
    {
     "name": "stdout",
     "output_type": "stream",
     "text": [
      "<class 'pandas.core.frame.DataFrame'>\n",
      "Int64Index: 433671 entries, 1 to 1149779\n",
      "Data columns (total 10 columns):\n",
      " #   Column               Non-Null Count   Dtype \n",
      "---  ------               --------------   ----- \n",
      " 0   User-ID              433671 non-null  int64 \n",
      " 1   ISBN                 433671 non-null  object\n",
      " 2   Book-Rating          433671 non-null  int64 \n",
      " 3   Book-Title           383842 non-null  object\n",
      " 4   Book-Author          383841 non-null  object\n",
      " 5   Year-Of-Publication  383842 non-null  object\n",
      " 6   Publisher            383840 non-null  object\n",
      " 7   Image-URL-S          383842 non-null  object\n",
      " 8   Image-URL-M          383842 non-null  object\n",
      " 9   Image-URL-L          383841 non-null  object\n",
      "dtypes: int64(2), object(8)\n",
      "memory usage: 36.4+ MB\n"
     ]
    }
   ],
   "source": [
    "books_with_ratings.info()"
   ]
  },
  {
   "cell_type": "code",
   "execution_count": 56,
   "id": "4ab2a2c6",
   "metadata": {},
   "outputs": [],
   "source": [
    "## Loại bỏ các giá trị Na của cột book-title\n",
    "books_with_ratings.dropna(subset=[\"Book-Title\"], inplace=True) "
   ]
  },
  {
   "cell_type": "code",
   "execution_count": 59,
   "id": "fe255528",
   "metadata": {},
   "outputs": [
    {
     "data": {
      "text/plain": [
       "Book-Title\n",
       "The Secret Garden                 18\n",
       "Selected Poems                    16\n",
       "Dracula                           15\n",
       "Adventures of Huckleberry Finn    15\n",
       "Pride and Prejudice               14\n",
       "Beloved                           14\n",
       "Little Women                      14\n",
       "Jane Eyre                         14\n",
       "Wuthering Heights                 14\n",
       "The Hobbit                        12\n",
       "Name: ISBN, dtype: int64"
      ]
     },
     "execution_count": 59,
     "metadata": {},
     "output_type": "execute_result"
    }
   ],
   "source": [
    "### Kiểm tra xem 1 cuốn sách có nhiều mã sách hay không\n",
    "books_with_ratings.groupby(\"Book-Title\")[\"ISBN\"].nunique().sort_values(ascending=False)[:10]\n"
   ]
  },
  {
   "cell_type": "code",
   "execution_count": 62,
   "id": "dfdd1b0b",
   "metadata": {},
   "outputs": [
    {
     "data": {
      "text/plain": [
       "1     125336\n",
       "2       7872\n",
       "3       1497\n",
       "4        493\n",
       "5        181\n",
       "6         86\n",
       "7         43\n",
       "8         28\n",
       "9         11\n",
       "10         8\n",
       "14         5\n",
       "15         2\n",
       "11         2\n",
       "16         1\n",
       "12         1\n",
       "18         1\n",
       "Name: ISBN, dtype: int64"
      ]
     },
     "execution_count": 62,
     "metadata": {},
     "output_type": "execute_result"
    }
   ],
   "source": [
    "multiple_isbns = books_with_ratings.groupby(\"Book-Title\")['ISBN'].nunique()\n",
    "multiple_isbns.value_counts()"
   ]
  },
  {
   "cell_type": "code",
   "execution_count": 63,
   "id": "4cde127f",
   "metadata": {},
   "outputs": [],
   "source": [
    "## Loại bỏ các giá trị na trong trường là những cuốn sách chỉ có 1 mã sách\n",
    "has_mult_isbns = multiple_isbns.where(multiple_isbns>1)\n",
    "has_mult_isbns.dropna(inplace=True) # remove NaNs, which in this case is books with a single ISBN number"
   ]
  },
  {
   "cell_type": "code",
   "execution_count": 79,
   "id": "9996285e",
   "metadata": {},
   "outputs": [],
   "source": [
    "def add_unique_isbn_col(df):\n",
    "    df['unique_isbn'] = df.apply(lambda row: multiple_isbn_dict[row[\"Book-Title\"]][0] if row[\"Book-Title\"] in multiple_isbn_dict.keys() else row[\"ISBN\"], axis=1)\n",
    "    return df\n"
   ]
  },
  {
   "cell_type": "code",
   "execution_count": 80,
   "id": "dd3e4835",
   "metadata": {},
   "outputs": [],
   "source": [
    "def make_isbn_dict(df):\n",
    "     title_isbn_dict = {}\n",
    "     for title in has_mult_isbns.index:\n",
    "         isbn_series = df.loc[df[\"Book-Title\"]==title][\"ISBN\"].unique() # returns only the unique ISBNs\n",
    "         title_isbn_dict[title] = isbn_series.tolist()\n",
    "     return title_isbn_dict"
   ]
  },
  {
   "cell_type": "code",
   "execution_count": 71,
   "id": "ab5fc5fd",
   "metadata": {},
   "outputs": [],
   "source": [
    "dict_unique_isbn = make_isbn_dict(books_with_ratings)"
   ]
  },
  {
   "cell_type": "code",
   "execution_count": 76,
   "id": "b25b4727",
   "metadata": {},
   "outputs": [],
   "source": [
    "with open('multiple_isbn_dict.pickle', 'wb') as handle:\n",
    "     pickle.dump(dict_unique_isbn, handle, protocol=pickle.HIGHEST_PROTOCOL)"
   ]
  },
  {
   "cell_type": "code",
   "execution_count": 77,
   "id": "480b6211",
   "metadata": {},
   "outputs": [],
   "source": [
    "with open('multiple_isbn_dict.pickle', 'rb') as handle:\n",
    "    multiple_isbn_dict = pickle.load(handle)"
   ]
  },
  {
   "cell_type": "code",
   "execution_count": 81,
   "id": "bf4f9f90",
   "metadata": {},
   "outputs": [],
   "source": [
    "books_with_ratings = add_unique_isbn_col(books_with_ratings)"
   ]
  },
  {
   "cell_type": "code",
   "execution_count": 83,
   "id": "da0146fd",
   "metadata": {},
   "outputs": [
    {
     "data": {
      "text/html": [
       "<div>\n",
       "<style scoped>\n",
       "    .dataframe tbody tr th:only-of-type {\n",
       "        vertical-align: middle;\n",
       "    }\n",
       "\n",
       "    .dataframe tbody tr th {\n",
       "        vertical-align: top;\n",
       "    }\n",
       "\n",
       "    .dataframe thead th {\n",
       "        text-align: right;\n",
       "    }\n",
       "</style>\n",
       "<table border=\"1\" class=\"dataframe\">\n",
       "  <thead>\n",
       "    <tr style=\"text-align: right;\">\n",
       "      <th></th>\n",
       "      <th>User-ID</th>\n",
       "      <th>ISBN</th>\n",
       "      <th>Book-Rating</th>\n",
       "      <th>Book-Title</th>\n",
       "      <th>Book-Author</th>\n",
       "      <th>Year-Of-Publication</th>\n",
       "      <th>Publisher</th>\n",
       "      <th>Image-URL-S</th>\n",
       "      <th>Image-URL-M</th>\n",
       "      <th>Image-URL-L</th>\n",
       "      <th>unique_isbn</th>\n",
       "    </tr>\n",
       "  </thead>\n",
       "  <tbody>\n",
       "    <tr>\n",
       "      <th>10481</th>\n",
       "      <td>387</td>\n",
       "      <td>1590071212</td>\n",
       "      <td>9</td>\n",
       "      <td>Jane Eyre</td>\n",
       "      <td>Charlotte Bronte</td>\n",
       "      <td>2002</td>\n",
       "      <td>New Millenium Audio</td>\n",
       "      <td>http://images.amazon.com/images/P/1590071212.0...</td>\n",
       "      <td>http://images.amazon.com/images/P/1590071212.0...</td>\n",
       "      <td>http://images.amazon.com/images/P/1590071212.0...</td>\n",
       "      <td>1590071212</td>\n",
       "    </tr>\n",
       "    <tr>\n",
       "      <th>16178</th>\n",
       "      <td>2718</td>\n",
       "      <td>0451518845</td>\n",
       "      <td>10</td>\n",
       "      <td>Jane Eyre</td>\n",
       "      <td>Charlotte Bronte</td>\n",
       "      <td>1999</td>\n",
       "      <td>New Amer Library Classics</td>\n",
       "      <td>http://images.amazon.com/images/P/0451518845.0...</td>\n",
       "      <td>http://images.amazon.com/images/P/0451518845.0...</td>\n",
       "      <td>http://images.amazon.com/images/P/0451518845.0...</td>\n",
       "      <td>1590071212</td>\n",
       "    </tr>\n",
       "    <tr>\n",
       "      <th>35499</th>\n",
       "      <td>8370</td>\n",
       "      <td>0451523326</td>\n",
       "      <td>8</td>\n",
       "      <td>Jane Eyre</td>\n",
       "      <td>Charlotte Bronte</td>\n",
       "      <td>1988</td>\n",
       "      <td>Signet Classics</td>\n",
       "      <td>http://images.amazon.com/images/P/0451523326.0...</td>\n",
       "      <td>http://images.amazon.com/images/P/0451523326.0...</td>\n",
       "      <td>http://images.amazon.com/images/P/0451523326.0...</td>\n",
       "      <td>1590071212</td>\n",
       "    </tr>\n",
       "    <tr>\n",
       "      <th>50842</th>\n",
       "      <td>11676</td>\n",
       "      <td>0451523326</td>\n",
       "      <td>9</td>\n",
       "      <td>Jane Eyre</td>\n",
       "      <td>Charlotte Bronte</td>\n",
       "      <td>1988</td>\n",
       "      <td>Signet Classics</td>\n",
       "      <td>http://images.amazon.com/images/P/0451523326.0...</td>\n",
       "      <td>http://images.amazon.com/images/P/0451523326.0...</td>\n",
       "      <td>http://images.amazon.com/images/P/0451523326.0...</td>\n",
       "      <td>1590071212</td>\n",
       "    </tr>\n",
       "    <tr>\n",
       "      <th>58066</th>\n",
       "      <td>11676</td>\n",
       "      <td>843761449X</td>\n",
       "      <td>8</td>\n",
       "      <td>Jane Eyre</td>\n",
       "      <td>Charlotte Bronte</td>\n",
       "      <td>1998</td>\n",
       "      <td>Ediciones Catedra S.A.</td>\n",
       "      <td>http://images.amazon.com/images/P/843761449X.0...</td>\n",
       "      <td>http://images.amazon.com/images/P/843761449X.0...</td>\n",
       "      <td>http://images.amazon.com/images/P/843761449X.0...</td>\n",
       "      <td>1590071212</td>\n",
       "    </tr>\n",
       "  </tbody>\n",
       "</table>\n",
       "</div>"
      ],
      "text/plain": [
       "       User-ID        ISBN  Book-Rating Book-Title       Book-Author  \\\n",
       "10481      387  1590071212            9  Jane Eyre  Charlotte Bronte   \n",
       "16178     2718  0451518845           10  Jane Eyre  Charlotte Bronte   \n",
       "35499     8370  0451523326            8  Jane Eyre  Charlotte Bronte   \n",
       "50842    11676  0451523326            9  Jane Eyre  Charlotte Bronte   \n",
       "58066    11676  843761449X            8  Jane Eyre  Charlotte Bronte   \n",
       "\n",
       "      Year-Of-Publication                  Publisher  \\\n",
       "10481                2002        New Millenium Audio   \n",
       "16178                1999  New Amer Library Classics   \n",
       "35499                1988            Signet Classics   \n",
       "50842                1988            Signet Classics   \n",
       "58066                1998     Ediciones Catedra S.A.   \n",
       "\n",
       "                                             Image-URL-S  \\\n",
       "10481  http://images.amazon.com/images/P/1590071212.0...   \n",
       "16178  http://images.amazon.com/images/P/0451518845.0...   \n",
       "35499  http://images.amazon.com/images/P/0451523326.0...   \n",
       "50842  http://images.amazon.com/images/P/0451523326.0...   \n",
       "58066  http://images.amazon.com/images/P/843761449X.0...   \n",
       "\n",
       "                                             Image-URL-M  \\\n",
       "10481  http://images.amazon.com/images/P/1590071212.0...   \n",
       "16178  http://images.amazon.com/images/P/0451518845.0...   \n",
       "35499  http://images.amazon.com/images/P/0451523326.0...   \n",
       "50842  http://images.amazon.com/images/P/0451523326.0...   \n",
       "58066  http://images.amazon.com/images/P/843761449X.0...   \n",
       "\n",
       "                                             Image-URL-L unique_isbn  \n",
       "10481  http://images.amazon.com/images/P/1590071212.0...  1590071212  \n",
       "16178  http://images.amazon.com/images/P/0451518845.0...  1590071212  \n",
       "35499  http://images.amazon.com/images/P/0451523326.0...  1590071212  \n",
       "50842  http://images.amazon.com/images/P/0451523326.0...  1590071212  \n",
       "58066  http://images.amazon.com/images/P/843761449X.0...  1590071212  "
      ]
     },
     "execution_count": 83,
     "metadata": {},
     "output_type": "execute_result"
    }
   ],
   "source": [
    "### Xêm thử 1 cuốn sách với tên là Jane Eyre có nhiều mã sách hay không.\n",
    "books_with_ratings[books_with_ratings[\"Book-Title\"]=='Jane Eyre'].head()\n"
   ]
  },
  {
   "cell_type": "code",
   "execution_count": 85,
   "id": "400f8323",
   "metadata": {},
   "outputs": [
    {
     "name": "stdout",
     "output_type": "stream",
     "text": [
      "Books+Ratings table size: 383842\n",
      "Users table size: 278858\n",
      "New \"books_users_ratings\" table size: 383842\n"
     ]
    }
   ],
   "source": [
    "### Kiểm tra kích thước của tập dữ liệu\n",
    "print(f'Books+Ratings table size: {len(books_with_ratings)}')\n",
    "print(f'Users table size: {len(users)}')\n",
    "books_users_ratings = books_with_ratings.join(users.set_index('User-ID'), on='User-ID')\n",
    "print(f'New \"books_users_ratings\" table size: {len(books_users_ratings)}')"
   ]
  },
  {
   "cell_type": "code",
   "execution_count": 86,
   "id": "0a5de2e2",
   "metadata": {},
   "outputs": [
    {
     "data": {
      "text/plain": [
       "(383842, 13)"
      ]
     },
     "execution_count": 86,
     "metadata": {},
     "output_type": "execute_result"
    }
   ],
   "source": [
    "books_users_ratings.shape\n"
   ]
  },
  {
   "cell_type": "code",
   "execution_count": 87,
   "id": "c3544a63",
   "metadata": {},
   "outputs": [],
   "source": [
    "books_users_ratings.to_csv(\"New-Ratings.csv\", index= False)"
   ]
  },
  {
   "cell_type": "code",
   "execution_count": 91,
   "id": "ab3da27f",
   "metadata": {},
   "outputs": [],
   "source": [
    "new_books = books_users_ratings[['User-ID','unique_isbn',\"Book-Rating\"]]"
   ]
  },
  {
   "cell_type": "code",
   "execution_count": 92,
   "id": "59a2131b",
   "metadata": {},
   "outputs": [],
   "source": [
    "new_books.to_csv(\"Ratings-New.csv\", index= False)"
   ]
  },
  {
   "cell_type": "code",
   "execution_count": 102,
   "id": "9e55873c",
   "metadata": {},
   "outputs": [],
   "source": [
    "from sklearn.model_selection import train_test_split\n"
   ]
  },
  {
   "cell_type": "code",
   "execution_count": 103,
   "id": "682705eb",
   "metadata": {},
   "outputs": [],
   "source": [
    "train, test = train_test_split(new_books, test_size=0.2)\n"
   ]
  },
  {
   "cell_type": "code",
   "execution_count": 105,
   "id": "771961a8",
   "metadata": {},
   "outputs": [],
   "source": [
    "train.to_csv(\"Train-New.csv\", index= False)"
   ]
  },
  {
   "cell_type": "code",
   "execution_count": 106,
   "id": "edf18cf1",
   "metadata": {},
   "outputs": [],
   "source": [
    "test.to_csv(\"Test-New.csv\", index= False)"
   ]
  },
  {
   "cell_type": "code",
   "execution_count": null,
   "id": "ae0fea10",
   "metadata": {},
   "outputs": [],
   "source": []
  },
  {
   "cell_type": "code",
   "execution_count": 93,
   "id": "f73bd96d",
   "metadata": {},
   "outputs": [],
   "source": [
    "filter_books = new_books['unique_isbn'].value_counts() > 3\n",
    "filter_books = filter_books[filter_books].index.tolist()"
   ]
  },
  {
   "cell_type": "code",
   "execution_count": 94,
   "id": "ee288682",
   "metadata": {},
   "outputs": [],
   "source": [
    "filter_users = new_books['User-ID'].value_counts() > 3\n",
    "filter_users = filter_users[filter_users].index.tolist()"
   ]
  },
  {
   "cell_type": "code",
   "execution_count": 96,
   "id": "00923681",
   "metadata": {},
   "outputs": [
    {
     "name": "stdout",
     "output_type": "stream",
     "text": [
      "Original shape: (383842, 3)\n",
      "New shape: (182554, 3)\n"
     ]
    }
   ],
   "source": [
    "print(f'Original shape: {new_books.shape}')\n",
    "df = new_books[(new_books['unique_isbn'].isin(filter_books)) & (new_books['User-ID'].isin(filter_users))]\n",
    "print(f'New shape: {df.shape}')"
   ]
  },
  {
   "cell_type": "code",
   "execution_count": 97,
   "id": "743e8b46",
   "metadata": {},
   "outputs": [
    {
     "data": {
      "text/html": [
       "<div>\n",
       "<style scoped>\n",
       "    .dataframe tbody tr th:only-of-type {\n",
       "        vertical-align: middle;\n",
       "    }\n",
       "\n",
       "    .dataframe tbody tr th {\n",
       "        vertical-align: top;\n",
       "    }\n",
       "\n",
       "    .dataframe thead th {\n",
       "        text-align: right;\n",
       "    }\n",
       "</style>\n",
       "<table border=\"1\" class=\"dataframe\">\n",
       "  <thead>\n",
       "    <tr style=\"text-align: right;\">\n",
       "      <th></th>\n",
       "      <th>User-ID</th>\n",
       "      <th>unique_isbn</th>\n",
       "      <th>Book-Rating</th>\n",
       "    </tr>\n",
       "  </thead>\n",
       "  <tbody>\n",
       "    <tr>\n",
       "      <th>16</th>\n",
       "      <td>276747</td>\n",
       "      <td>0060517794</td>\n",
       "      <td>9</td>\n",
       "    </tr>\n",
       "    <tr>\n",
       "      <th>19</th>\n",
       "      <td>276747</td>\n",
       "      <td>0671537458</td>\n",
       "      <td>9</td>\n",
       "    </tr>\n",
       "    <tr>\n",
       "      <th>20</th>\n",
       "      <td>276747</td>\n",
       "      <td>0679776818</td>\n",
       "      <td>8</td>\n",
       "    </tr>\n",
       "    <tr>\n",
       "      <th>120</th>\n",
       "      <td>276813</td>\n",
       "      <td>8426449476</td>\n",
       "      <td>8</td>\n",
       "    </tr>\n",
       "    <tr>\n",
       "      <th>133</th>\n",
       "      <td>276822</td>\n",
       "      <td>0060096195</td>\n",
       "      <td>10</td>\n",
       "    </tr>\n",
       "    <tr>\n",
       "      <th>134</th>\n",
       "      <td>276822</td>\n",
       "      <td>0141310340</td>\n",
       "      <td>9</td>\n",
       "    </tr>\n",
       "  </tbody>\n",
       "</table>\n",
       "</div>"
      ],
      "text/plain": [
       "     User-ID unique_isbn  Book-Rating\n",
       "16    276747  0060517794            9\n",
       "19    276747  0671537458            9\n",
       "20    276747  0679776818            8\n",
       "120   276813  8426449476            8\n",
       "133   276822  0060096195           10\n",
       "134   276822  0141310340            9"
      ]
     },
     "execution_count": 97,
     "metadata": {},
     "output_type": "execute_result"
    }
   ],
   "source": [
    "df.head(6)"
   ]
  },
  {
   "cell_type": "code",
   "execution_count": 10,
   "id": "db4e8622",
   "metadata": {},
   "outputs": [],
   "source": [
    "df.to_csv(\"Book-Ratings.csv\", index = False)"
   ]
  },
  {
   "cell_type": "code",
   "execution_count": 99,
   "id": "9478a798",
   "metadata": {},
   "outputs": [
    {
     "name": "stdout",
     "output_type": "stream",
     "text": [
      "number of user\n",
      "15181\n",
      "number of book\n",
      "18276\n"
     ]
    }
   ],
   "source": [
    "uni_user = df['User-ID'].nunique(dropna=True)\n",
    "uni_movie = df['unique_isbn'].nunique(dropna=True)\n",
    "print(\"number of user\")\n",
    "print(uni_user)\n",
    "print(\"number of book\")\n",
    "print(uni_movie)"
   ]
  },
  {
   "cell_type": "code",
   "execution_count": 100,
   "id": "f41f0bc3",
   "metadata": {},
   "outputs": [
    {
     "name": "stdout",
     "output_type": "stream",
     "text": [
      "number of rating \n",
      "277447956\n",
      "number ratings not provide:\n",
      "277265402\n",
      "sparsity of matrix user-item\n",
      "0.9993420243470815\n"
     ]
    }
   ],
   "source": [
    "## create item user matrix\n",
    "total_ratings = uni_user*uni_movie\n",
    "rating_present = df.shape[0]\n",
    "\n",
    "rating_not_provide = total_ratings - rating_present\n",
    "\n",
    "\n",
    "print(\"number of rating \")\n",
    "print(total_ratings)\n",
    "print(\"number ratings not provide:\")\n",
    "print(rating_not_provide)\n",
    "## sparsity of matrix user-item\n",
    "print(\"sparsity of matrix user-item\")\n",
    "print(rating_not_provide/total_ratings)"
   ]
  },
  {
   "cell_type": "code",
   "execution_count": 101,
   "id": "c6faeb4f",
   "metadata": {},
   "outputs": [
    {
     "data": {
      "text/html": [
       "<div>\n",
       "<style scoped>\n",
       "    .dataframe tbody tr th:only-of-type {\n",
       "        vertical-align: middle;\n",
       "    }\n",
       "\n",
       "    .dataframe tbody tr th {\n",
       "        vertical-align: top;\n",
       "    }\n",
       "\n",
       "    .dataframe thead th {\n",
       "        text-align: right;\n",
       "    }\n",
       "</style>\n",
       "<table border=\"1\" class=\"dataframe\">\n",
       "  <thead>\n",
       "    <tr style=\"text-align: right;\">\n",
       "      <th></th>\n",
       "      <th>count</th>\n",
       "    </tr>\n",
       "    <tr>\n",
       "      <th>Book-Rating</th>\n",
       "      <th></th>\n",
       "    </tr>\n",
       "  </thead>\n",
       "  <tbody>\n",
       "    <tr>\n",
       "      <th>1</th>\n",
       "      <td>608</td>\n",
       "    </tr>\n",
       "    <tr>\n",
       "      <th>2</th>\n",
       "      <td>1011</td>\n",
       "    </tr>\n",
       "    <tr>\n",
       "      <th>3</th>\n",
       "      <td>2228</td>\n",
       "    </tr>\n",
       "    <tr>\n",
       "      <th>4</th>\n",
       "      <td>3262</td>\n",
       "    </tr>\n",
       "    <tr>\n",
       "      <th>5</th>\n",
       "      <td>18539</td>\n",
       "    </tr>\n",
       "    <tr>\n",
       "      <th>6</th>\n",
       "      <td>14203</td>\n",
       "    </tr>\n",
       "    <tr>\n",
       "      <th>7</th>\n",
       "      <td>30904</td>\n",
       "    </tr>\n",
       "    <tr>\n",
       "      <th>8</th>\n",
       "      <td>44711</td>\n",
       "    </tr>\n",
       "    <tr>\n",
       "      <th>9</th>\n",
       "      <td>31741</td>\n",
       "    </tr>\n",
       "    <tr>\n",
       "      <th>10</th>\n",
       "      <td>35347</td>\n",
       "    </tr>\n",
       "  </tbody>\n",
       "</table>\n",
       "</div>"
      ],
      "text/plain": [
       "             count\n",
       "Book-Rating       \n",
       "1              608\n",
       "2             1011\n",
       "3             2228\n",
       "4             3262\n",
       "5            18539\n",
       "6            14203\n",
       "7            30904\n",
       "8            44711\n",
       "9            31741\n",
       "10           35347"
      ]
     },
     "execution_count": 101,
     "metadata": {},
     "output_type": "execute_result"
    }
   ],
   "source": [
    "rating_cnt = pd.DataFrame(df.groupby(\"Book-Rating\").size(), columns=['count'])\n",
    "rating_cnt"
   ]
  },
  {
   "cell_type": "code",
   "execution_count": null,
   "id": "b55fb2af",
   "metadata": {},
   "outputs": [],
   "source": []
  }
 ],
 "metadata": {
  "kernelspec": {
   "display_name": "Python 3 (ipykernel)",
   "language": "python",
   "name": "python3"
  },
  "language_info": {
   "codemirror_mode": {
    "name": "ipython",
    "version": 3
   },
   "file_extension": ".py",
   "mimetype": "text/x-python",
   "name": "python",
   "nbconvert_exporter": "python",
   "pygments_lexer": "ipython3",
   "version": "3.9.12"
  }
 },
 "nbformat": 4,
 "nbformat_minor": 5
}
