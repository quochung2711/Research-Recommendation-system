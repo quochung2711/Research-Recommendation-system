{
 "cells": [
  {
   "cell_type": "markdown",
   "id": "a8a95d74",
   "metadata": {},
   "source": [
    "# Using ALS "
   ]
  },
  {
   "cell_type": "code",
   "execution_count": 17,
   "id": "da44a8b5",
   "metadata": {},
   "outputs": [],
   "source": [
    "from pyspark.sql import SparkSession\n",
    "spark = SparkSession.builder.appName('recommendation').getOrCreate()"
   ]
  },
  {
   "cell_type": "code",
   "execution_count": 18,
   "id": "0c24a539",
   "metadata": {},
   "outputs": [],
   "source": [
    "from pyspark.ml.evaluation import RegressionEvaluator\n",
    "from pyspark.ml.recommendation import ALS"
   ]
  },
  {
   "cell_type": "code",
   "execution_count": 19,
   "id": "cab42b2c",
   "metadata": {},
   "outputs": [],
   "source": [
    "from pyspark.sql.types import *\n"
   ]
  },
  {
   "cell_type": "code",
   "execution_count": 30,
   "id": "ffd14a3e",
   "metadata": {},
   "outputs": [],
   "source": [
    "data = spark.read.option(\"header\", \"true\").csv('./Ratings-New.csv')\n",
    "\n"
   ]
  },
  {
   "cell_type": "code",
   "execution_count": 31,
   "id": "b34f7f38",
   "metadata": {},
   "outputs": [
    {
     "name": "stdout",
     "output_type": "stream",
     "text": [
      "+-------+-----------+-----------+\n",
      "|User-ID|unique_isbn|Book-Rating|\n",
      "+-------+-----------+-----------+\n",
      "| 276726| 0155061224|          5|\n",
      "| 276729| 052165615X|          3|\n",
      "| 276729| 0521795028|          6|\n",
      "| 276744| 038550120X|          7|\n",
      "| 276747| 0060517794|          9|\n",
      "| 276747| 0671537458|          9|\n",
      "| 276747| 0679776818|          8|\n",
      "| 276747| 0943066433|          7|\n",
      "| 276747| 1885408226|          7|\n",
      "| 276748| 0747558167|          6|\n",
      "| 276751| 3596218098|          8|\n",
      "| 276754| 0684867621|          8|\n",
      "| 276755| 0451166892|          5|\n",
      "| 276762| 0380711524|          5|\n",
      "| 276762| 3453092007|          8|\n",
      "| 276772| 0553572369|          7|\n",
      "| 276772| 3499230933|         10|\n",
      "| 276772| 3596151465|         10|\n",
      "| 276774| 3442136644|          9|\n",
      "| 276786| 8437606322|          8|\n",
      "+-------+-----------+-----------+\n",
      "only showing top 20 rows\n",
      "\n"
     ]
    }
   ],
   "source": [
    "data.show()"
   ]
  },
  {
   "cell_type": "code",
   "execution_count": 34,
   "id": "57a20e48",
   "metadata": {},
   "outputs": [
    {
     "name": "stdout",
     "output_type": "stream",
     "text": [
      "+-------+-----------+-----------+\n",
      "|User-ID|unique_isbn|Book-Rating|\n",
      "+-------+-----------+-----------+\n",
      "| 276726|  155061224|          5|\n",
      "| 276729|  521795028|          6|\n",
      "| 276747|   60517794|          9|\n",
      "| 276747|  671537458|          9|\n",
      "| 276747|  679776818|          8|\n",
      "| 276747|  943066433|          7|\n",
      "| 276747| 1885408226|          7|\n",
      "| 276748|  747558167|          6|\n",
      "| 276754|  684867621|          8|\n",
      "| 276755|  451166892|          5|\n",
      "| 276762|  380711524|          5|\n",
      "| 276772|  553572369|          7|\n",
      "| 276788|  345443683|          8|\n",
      "| 276796|  330332775|          5|\n",
      "| 276798|    6379702|          5|\n",
      "| 276800| 1562827898|          7|\n",
      "| 276804|  440498058|          8|\n",
      "| 276808|  395547032|         10|\n",
      "| 276811|  440414121|         10|\n",
      "| 276814|   91830893|          8|\n",
      "+-------+-----------+-----------+\n",
      "only showing top 20 rows\n",
      "\n"
     ]
    }
   ],
   "source": [
    "ratings_df = data.withColumn(\"User-ID\", data['User-ID'].cast(IntegerType())).withColumn(\"unique_isbn\", data['unique_isbn'].cast(IntegerType())).withColumn(\"Book-Rating\",data['Book-Rating'].cast(IntegerType())).na.drop()\n",
    "ratings_df.show()"
   ]
  },
  {
   "cell_type": "code",
   "execution_count": 23,
   "id": "400e00e5",
   "metadata": {},
   "outputs": [],
   "source": [
    "smaller = ratings_df.limit(100000)\n"
   ]
  },
  {
   "cell_type": "code",
   "execution_count": 24,
   "id": "8d121083",
   "metadata": {},
   "outputs": [
    {
     "data": {
      "text/plain": [
       "100000"
      ]
     },
     "execution_count": 24,
     "metadata": {},
     "output_type": "execute_result"
    }
   ],
   "source": [
    "smaller.count()"
   ]
  },
  {
   "cell_type": "code",
   "execution_count": 35,
   "id": "de1cfd23",
   "metadata": {},
   "outputs": [],
   "source": [
    "(train, test, validation) = ratings_df.randomSplit([0.6, 0.2, 0.2], seed = 19133025)\n"
   ]
  },
  {
   "cell_type": "code",
   "execution_count": 36,
   "id": "8929ed23",
   "metadata": {},
   "outputs": [
    {
     "name": "stdout",
     "output_type": "stream",
     "text": [
      "+-------+-----------+-----------+\n",
      "|User-ID|unique_isbn|Book-Rating|\n",
      "+-------+-----------+-----------+\n",
      "|      0|          0|          0|\n",
      "+-------+-----------+-----------+\n",
      "\n"
     ]
    }
   ],
   "source": [
    "## đếm các giá trị null\n",
    "from pyspark.sql.functions import col,sum\n",
    "data.select(*(sum(col(c).isNull().cast(\"int\")).alias(c) for c in data.columns)).show()"
   ]
  },
  {
   "cell_type": "code",
   "execution_count": 47,
   "id": "8dee0731",
   "metadata": {},
   "outputs": [],
   "source": [
    "# Create ALS model\n",
    "als = ALS(\n",
    "         userCol='User-ID', \n",
    "        itemCol='unique_isbn', \n",
    "        ratingCol='Book-Rating', \n",
    "         nonnegative = True, \n",
    "         implicitPrefs = False,\n",
    "         coldStartStrategy=\"drop\"\n",
    ")"
   ]
  },
  {
   "cell_type": "code",
   "execution_count": 48,
   "id": "120f87c6",
   "metadata": {},
   "outputs": [],
   "source": [
    "# Import the requisite packages\n",
    "from pyspark.ml.tuning import ParamGridBuilder, CrossValidator\n",
    "from pyspark.ml.evaluation import RegressionEvaluator"
   ]
  },
  {
   "cell_type": "code",
   "execution_count": 49,
   "id": "f3df4809",
   "metadata": {},
   "outputs": [],
   "source": [
    "parameter = ParamGridBuilder() \\\n",
    "                    .addGrid(als.rank, [10]) \\\n",
    "                    .addGrid(als.maxIter, [1, 5, 10]) \\\n",
    "                    .addGrid(als.regParam, [0.01,0.001, 0.1]) \\\n",
    "                    .addGrid(als.alpha, [100.0,300.0, 1000.0, 2000.0]) \\\n",
    "                    .build()"
   ]
  },
  {
   "cell_type": "code",
   "execution_count": 50,
   "id": "5cd1f977",
   "metadata": {},
   "outputs": [
    {
     "name": "stdout",
     "output_type": "stream",
     "text": [
      "Num models to be tested:  36\n"
     ]
    }
   ],
   "source": [
    "# Define evaluator as RMSE and print length of evaluator\n",
    "evaluator = RegressionEvaluator(\n",
    "           metricName=\"rmse\", \n",
    "           labelCol=\"Book-Rating\", \n",
    "           predictionCol=\"prediction\") \n",
    "print (\"Num models to be tested: \", len(parameter))"
   ]
  },
  {
   "cell_type": "code",
   "execution_count": 51,
   "id": "2c590dfc",
   "metadata": {},
   "outputs": [],
   "source": [
    "# Build cross validation using CrossValidator\n",
    "cv = CrossValidator(estimator=als, estimatorParamMaps=parameter, evaluator=evaluator, numFolds=3)"
   ]
  },
  {
   "cell_type": "code",
   "execution_count": 52,
   "id": "4ee1fd75",
   "metadata": {},
   "outputs": [],
   "source": [
    "model = cv.fit(train)"
   ]
  },
  {
   "cell_type": "code",
   "execution_count": 53,
   "id": "339c3e4e",
   "metadata": {},
   "outputs": [],
   "source": [
    "best_model = model.bestModel"
   ]
  },
  {
   "cell_type": "code",
   "execution_count": 54,
   "id": "bf0b47e1",
   "metadata": {},
   "outputs": [
    {
     "name": "stdout",
     "output_type": "stream",
     "text": [
      "2.4991644099651618\n"
     ]
    }
   ],
   "source": [
    "test_predictions = best_model.transform(validation)\n",
    "RMSE = evaluator.evaluate(test_predictions)\n",
    "print(RMSE)"
   ]
  },
  {
   "cell_type": "code",
   "execution_count": 57,
   "id": "012d09d9",
   "metadata": {},
   "outputs": [
    {
     "name": "stdout",
     "output_type": "stream",
     "text": [
      "**Best Model**\n",
      "  Rank: 10\n",
      "  MaxIter: 10\n",
      "  RegParam: 0.1\n",
      "  Alpha: 100.0\n"
     ]
    }
   ],
   "source": [
    "print(\"**Best Model**\")\n",
    "# Print \"Rank\"\n",
    "print(\"  Rank:\", best_model._java_obj.parent().getRank())\n",
    "# Print \"MaxIter\"\n",
    "print(\"  MaxIter:\", best_model._java_obj.parent().getMaxIter())\n",
    "# Print \"RegParam\"\n",
    "print(\"  RegParam:\", best_model._java_obj.parent().getRegParam())\n",
    "# Print \"Alpha\"\n",
    "print(\"  Alpha:\", best_model._java_obj.parent().getAlpha())"
   ]
  },
  {
   "cell_type": "code",
   "execution_count": 61,
   "id": "b05a087f",
   "metadata": {},
   "outputs": [],
   "source": [
    "als = ALS(maxIter=10, regParam=0.1, rank=10, alpha = 100.0,\n",
    "         userCol='User-ID', \n",
    "        itemCol='unique_isbn', \n",
    "        ratingCol='Book-Rating', \n",
    "         nonnegative = True, \n",
    "         implicitPrefs = False,\n",
    "         coldStartStrategy=\"drop\"\n",
    ")"
   ]
  },
  {
   "cell_type": "code",
   "execution_count": 62,
   "id": "67282ef6",
   "metadata": {},
   "outputs": [],
   "source": [
    "model = als.fit(train)\n"
   ]
  },
  {
   "cell_type": "code",
   "execution_count": 63,
   "id": "c8454ba7",
   "metadata": {},
   "outputs": [
    {
     "name": "stdout",
     "output_type": "stream",
     "text": [
      "Root-mean-square error = 2.464188595062904\n"
     ]
    }
   ],
   "source": [
    "predictions = model.transform(test)\n",
    "evaluator = RegressionEvaluator(metricName=\"rmse\", labelCol=\"Book-Rating\",\n",
    "                                predictionCol=\"prediction\")\n",
    "rmse = evaluator.evaluate(predictions)\n",
    "print(\"Root-mean-square error = \" + str(rmse))"
   ]
  },
  {
   "cell_type": "code",
   "execution_count": null,
   "id": "f21820cc",
   "metadata": {},
   "outputs": [],
   "source": [
    " "
   ]
  },
  {
   "cell_type": "code",
   "execution_count": null,
   "id": "6c7c1e98",
   "metadata": {},
   "outputs": [],
   "source": []
  }
 ],
 "metadata": {
  "kernelspec": {
   "display_name": "Python 3 (ipykernel)",
   "language": "python",
   "name": "python3"
  },
  "language_info": {
   "codemirror_mode": {
    "name": "ipython",
    "version": 3
   },
   "file_extension": ".py",
   "mimetype": "text/x-python",
   "name": "python",
   "nbconvert_exporter": "python",
   "pygments_lexer": "ipython3",
   "version": "3.9.12"
  }
 },
 "nbformat": 4,
 "nbformat_minor": 5
}
