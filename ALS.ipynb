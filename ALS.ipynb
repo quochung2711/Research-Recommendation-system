{
 "cells": [
  {
   "cell_type": "markdown",
   "id": "a8a95d74",
   "metadata": {},
   "source": [
    "# Using ALS "
   ]
  },
  {
   "cell_type": "code",
   "execution_count": 1,
   "id": "da44a8b5",
   "metadata": {},
   "outputs": [],
   "source": [
    "from pyspark.sql import SparkSession\n",
    "spark = SparkSession.builder.appName('recommendation').getOrCreate()"
   ]
  },
  {
   "cell_type": "code",
   "execution_count": 2,
   "id": "0c24a539",
   "metadata": {},
   "outputs": [],
   "source": [
    "from pyspark.ml.evaluation import RegressionEvaluator\n",
    "from pyspark.ml.recommendation import ALS"
   ]
  },
  {
   "cell_type": "code",
   "execution_count": 3,
   "id": "cab42b2c",
   "metadata": {},
   "outputs": [],
   "source": [
    "from pyspark.sql.types import *\n"
   ]
  },
  {
   "cell_type": "code",
   "execution_count": 4,
   "id": "ffd14a3e",
   "metadata": {},
   "outputs": [],
   "source": [
    "data = spark.read.option(\"delimiter\", \";\").option(\"header\", \"true\").csv('./BX-Book-Ratings.csv')\n",
    "\n"
   ]
  },
  {
   "cell_type": "code",
   "execution_count": 5,
   "id": "57a20e48",
   "metadata": {},
   "outputs": [
    {
     "name": "stdout",
     "output_type": "stream",
     "text": [
      "+-------+----------+-----------+\n",
      "|User-ID|      ISBN|Book-Rating|\n",
      "+-------+----------+-----------+\n",
      "| 276726| 155061224|          5|\n",
      "| 276727| 446520802|          0|\n",
      "| 276729| 521795028|          6|\n",
      "| 276733|2080674722|          0|\n",
      "| 276737| 600570967|          6|\n",
      "| 276745| 342310538|         10|\n",
      "| 276746| 425115801|          0|\n",
      "| 276746| 449006522|          0|\n",
      "| 276746| 553561618|          0|\n",
      "| 276746| 786013990|          0|\n",
      "| 276746| 786014512|          0|\n",
      "| 276747|  60517794|          9|\n",
      "| 276747| 451192001|          0|\n",
      "| 276747| 609801279|          0|\n",
      "| 276747| 671537458|          9|\n",
      "| 276747| 679776818|          8|\n",
      "| 276747| 943066433|          7|\n",
      "| 276747|1570231028|          0|\n",
      "| 276747|1885408226|          7|\n",
      "| 276748| 747558167|          6|\n",
      "+-------+----------+-----------+\n",
      "only showing top 20 rows\n",
      "\n"
     ]
    }
   ],
   "source": [
    "ratings_df = data.withColumn(\"User-ID\", data['User-ID'].cast(IntegerType())).withColumn(\"ISBN\", data['ISBN'].cast(IntegerType())).withColumn(\"Book-Rating\",data['Book-Rating'].cast(IntegerType())).na.drop()\n",
    "ratings_df.show()"
   ]
  },
  {
   "cell_type": "code",
   "execution_count": 6,
   "id": "400e00e5",
   "metadata": {},
   "outputs": [],
   "source": [
    "smaller = ratings_df.limit(100000)\n"
   ]
  },
  {
   "cell_type": "code",
   "execution_count": 7,
   "id": "8d121083",
   "metadata": {},
   "outputs": [
    {
     "data": {
      "text/plain": [
       "100000"
      ]
     },
     "execution_count": 7,
     "metadata": {},
     "output_type": "execute_result"
    }
   ],
   "source": [
    "smaller.count()"
   ]
  },
  {
   "cell_type": "code",
   "execution_count": 8,
   "id": "de1cfd23",
   "metadata": {},
   "outputs": [],
   "source": [
    "(train, test) = smaller.randomSplit([0.8, 0.2], seed = 19133025)\n"
   ]
  },
  {
   "cell_type": "code",
   "execution_count": 9,
   "id": "8929ed23",
   "metadata": {},
   "outputs": [
    {
     "name": "stdout",
     "output_type": "stream",
     "text": [
      "+-------+----+-----------+\n",
      "|User-ID|ISBN|Book-Rating|\n",
      "+-------+----+-----------+\n",
      "|      0|   0|          0|\n",
      "+-------+----+-----------+\n",
      "\n"
     ]
    }
   ],
   "source": [
    "## đếm các giá trị null\n",
    "from pyspark.sql.functions import col,sum\n",
    "data.select(*(sum(col(c).isNull().cast(\"int\")).alias(c) for c in data.columns)).show()"
   ]
  },
  {
   "cell_type": "code",
   "execution_count": 10,
   "id": "8dee0731",
   "metadata": {},
   "outputs": [],
   "source": [
    "# Create ALS model\n",
    "als = ALS(\n",
    "         userCol='User-ID', \n",
    "        itemCol='ISBN', \n",
    "        ratingCol='Book-Rating', \n",
    "         nonnegative = True, \n",
    "         implicitPrefs = False,\n",
    "         coldStartStrategy=\"drop\"\n",
    ")"
   ]
  },
  {
   "cell_type": "code",
   "execution_count": 11,
   "id": "120f87c6",
   "metadata": {},
   "outputs": [],
   "source": [
    "# Import the requisite packages\n",
    "from pyspark.ml.tuning import ParamGridBuilder, CrossValidator\n",
    "from pyspark.ml.evaluation import RegressionEvaluator"
   ]
  },
  {
   "cell_type": "code",
   "execution_count": 12,
   "id": "f3df4809",
   "metadata": {},
   "outputs": [],
   "source": [
    "parameter = ParamGridBuilder() \\\n",
    "                    .addGrid(als.rank, [ 8, 12]) \\\n",
    "                    .addGrid(als.maxIter, [5,10]) \\\n",
    "                    .addGrid(als.regParam, [0.01,0.001]) \\\n",
    "                    .addGrid(als.alpha, [2.0,3.0]) \\\n",
    "                    .build()"
   ]
  },
  {
   "cell_type": "code",
   "execution_count": 13,
   "id": "5cd1f977",
   "metadata": {},
   "outputs": [
    {
     "name": "stdout",
     "output_type": "stream",
     "text": [
      "Num models to be tested:  16\n"
     ]
    }
   ],
   "source": [
    "# Define evaluator as RMSE and print length of evaluator\n",
    "evaluator = RegressionEvaluator(\n",
    "           metricName=\"rmse\", \n",
    "           labelCol=\"Book-Rating\", \n",
    "           predictionCol=\"prediction\") \n",
    "print (\"Num models to be tested: \", len(parameter))"
   ]
  },
  {
   "cell_type": "code",
   "execution_count": 14,
   "id": "2c590dfc",
   "metadata": {},
   "outputs": [],
   "source": [
    "# Build cross validation using CrossValidator\n",
    "cv = CrossValidator(estimator=als, estimatorParamMaps=parameter, evaluator=evaluator, numFolds=3)"
   ]
  },
  {
   "cell_type": "code",
   "execution_count": 16,
   "id": "4ee1fd75",
   "metadata": {},
   "outputs": [],
   "source": [
    "model = cv.fit(train)"
   ]
  },
  {
   "cell_type": "code",
   "execution_count": 17,
   "id": "339c3e4e",
   "metadata": {},
   "outputs": [],
   "source": [
    "best_model = model.bestModel"
   ]
  },
  {
   "cell_type": "code",
   "execution_count": 18,
   "id": "bf0b47e1",
   "metadata": {},
   "outputs": [
    {
     "name": "stdout",
     "output_type": "stream",
     "text": [
      "4.725624851872248\n"
     ]
    }
   ],
   "source": [
    "test_predictions = best_model.transform(test)\n",
    "RMSE = evaluator.evaluate(test_predictions)\n",
    "print(RMSE)"
   ]
  },
  {
   "cell_type": "code",
   "execution_count": 25,
   "id": "012d09d9",
   "metadata": {},
   "outputs": [
    {
     "name": "stdout",
     "output_type": "stream",
     "text": [
      "**Best Model**\n",
      "  Rank: 12\n",
      "  MaxIter: 10\n",
      "  RegParam: 0.01\n"
     ]
    }
   ],
   "source": [
    "print(\"**Best Model**\")\n",
    "# Print \"Rank\"\n",
    "print(\"  Rank:\", best_model._java_obj.parent().getRank())\n",
    "# Print \"MaxIter\"\n",
    "print(\"  MaxIter:\", best_model._java_obj.parent().getMaxIter())\n",
    "# Print \"RegParam\"\n",
    "print(\"  RegParam:\", best_model._java_obj.parent().getRegParam())\n"
   ]
  },
  {
   "cell_type": "code",
   "execution_count": 20,
   "id": "b05a087f",
   "metadata": {},
   "outputs": [],
   "source": [
    "als = ALS(maxIter=10, regParam=0.01, rank=12,\n",
    "         userCol='User-ID', \n",
    "        itemCol='ISBN', \n",
    "        ratingCol='Book-Rating', \n",
    "         nonnegative = True, \n",
    "         implicitPrefs = True,\n",
    "         coldStartStrategy=\"drop\"\n",
    ")"
   ]
  },
  {
   "cell_type": "code",
   "execution_count": 21,
   "id": "11063118",
   "metadata": {},
   "outputs": [],
   "source": [
    "(train, test) = ratings_df.randomSplit([0.8, 0.2], seed = 19133025)\n"
   ]
  },
  {
   "cell_type": "code",
   "execution_count": 22,
   "id": "67282ef6",
   "metadata": {},
   "outputs": [],
   "source": [
    "model = als.fit(train)\n"
   ]
  },
  {
   "cell_type": "code",
   "execution_count": 23,
   "id": "c8454ba7",
   "metadata": {},
   "outputs": [
    {
     "name": "stdout",
     "output_type": "stream",
     "text": [
      "Root-mean-square error = 4.6072299190911545\n"
     ]
    }
   ],
   "source": [
    "predictions = model.transform(test)\n",
    "evaluator = RegressionEvaluator(metricName=\"rmse\", labelCol=\"Book-Rating\",\n",
    "                                predictionCol=\"prediction\")\n",
    "rmse = evaluator.evaluate(predictions)\n",
    "print(\"Root-mean-square error = \" + str(rmse))"
   ]
  }
 ],
 "metadata": {
  "kernelspec": {
   "display_name": "Python 3 (ipykernel)",
   "language": "python",
   "name": "python3"
  },
  "language_info": {
   "codemirror_mode": {
    "name": "ipython",
    "version": 3
   },
   "file_extension": ".py",
   "mimetype": "text/x-python",
   "name": "python",
   "nbconvert_exporter": "python",
   "pygments_lexer": "ipython3",
   "version": "3.9.12"
  }
 },
 "nbformat": 4,
 "nbformat_minor": 5
}
